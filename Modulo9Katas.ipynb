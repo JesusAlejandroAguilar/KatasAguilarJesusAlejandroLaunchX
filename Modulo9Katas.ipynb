{
 "cells": [
  {
   "cell_type": "markdown",
   "metadata": {},
   "source": [
    "## Ejercicio: Uso de funciones en Python\n",
    "Ejercicio 1: Trabajar con argumentos en funciones\n",
    "Los argumentos requeridos en las funciones se utilizan cuando las funciones necesitan que esos argumentos funcionen correctamente. En este ejercicio, construirás un informe de combustible que requiere información de varias ubicaciones de combustible en todo el cohete.\n",
    "\n",
    "TIP Dedica unos minutos para tratar de encontrar una solución. Luego desplázate hacia abajo hasta la parte inferior para ver si has logrado compilar el programa de acuerdo con las especificaciones\n",
    "\n",
    "Comienza por crear una función que necesite tres lecturas de combustible y devuelva un informe:"
   ]
  },
  {
   "cell_type": "code",
   "execution_count": 4,
   "metadata": {},
   "outputs": [],
   "source": [
    "# Función para leer 3 tanques de combustible y muestre el promedio\n",
    "def promedio_combustible(tanque1, tanque2, tanque3):\n",
    "    return f\"\"\"Combustible promedio en la nave: {(tanque1+tanque2+tanque3)/3} %\n",
    "    Combustible tanque 1: {tanque1} %\n",
    "    Combustible tanque 2: {tanque2} %\n",
    "    Combustible tanque 3: {tanque3} %\n",
    "    \"\"\""
   ]
  },
  {
   "cell_type": "markdown",
   "metadata": {},
   "source": [
    "Ahora que hemos definido la función de informes, vamos a comprobarlo. Para esta misión, los tanques no están llenos:"
   ]
  },
  {
   "cell_type": "code",
   "execution_count": 5,
   "metadata": {},
   "outputs": [
    {
     "name": "stdout",
     "output_type": "stream",
     "text": [
      "Combustible promedio en la nave: 55.0\n",
      "    Combustible tanque 1: 10 \n",
      "    Combustible tanque 2: 110 \n",
      "    Combustible tanque 3: 45\n",
      "    \n"
     ]
    }
   ],
   "source": [
    "print(promedio_combustible(10,110,45))"
   ]
  },
  {
   "cell_type": "markdown",
   "metadata": {},
   "source": [
    "En lugar de simplemente crear el informe, la función también está calculando el promedio. Mejora la legibilidad extrayendo el cálculo promedio de la función en una nueva función para que el promedio se pueda hacer de forma independiente:"
   ]
  },
  {
   "cell_type": "code",
   "execution_count": 9,
   "metadata": {},
   "outputs": [
    {
     "data": {
      "text/plain": [
       "55.0"
      ]
     },
     "execution_count": 9,
     "metadata": {},
     "output_type": "execute_result"
    }
   ],
   "source": [
    "# Función average (promedio) \n",
    "def average(values):\n",
    "    total = sum(values)\n",
    "    number_of_items = len(values)\n",
    "    return total / number_of_items\n",
    "average([10, 110, 45])"
   ]
  },
  {
   "cell_type": "markdown",
   "metadata": {},
   "source": [
    "Ahora actualiza la función de informes para llamando a la nueva función del promedio:"
   ]
  },
  {
   "cell_type": "code",
   "execution_count": 11,
   "metadata": {},
   "outputs": [
    {
     "name": "stdout",
     "output_type": "stream",
     "text": [
      "Fuel Report:\n",
      "    Promedio total: 78.0%\n",
      "    tanque 1: 88%\n",
      "    tanque 2: 76%\n",
      "    tanque 3: 70% \n",
      "    \n"
     ]
    }
   ],
   "source": [
    "# Actualiza la función\n",
    "def generae_reporte(tanque1, tanque2, tanque3):\n",
    "    return f\"\"\"Fuel Report:\n",
    "    Promedio total: {average([tanque1, tanque2, tanque3])}%\n",
    "    tanque 1: {tanque1}%\n",
    "    tanque 2: {tanque2}%\n",
    "    tanque 3: {tanque3}% \n",
    "    \"\"\"\n",
    "\n",
    "# Llama a la funcion generar reporte\n",
    "print(generae_reporte(88, 76, 70))"
   ]
  },
  {
   "cell_type": "markdown",
   "metadata": {},
   "source": [
    "## Ejercicio 2: Trabajo con argumentos de palabra clave\n",
    "\n",
    "Ejercicio : Trabajar con argumentos de palabras clave en funciones\n",
    "En este ejercicio, construirás un informe de cohete que requiere varias piezas de información, como el tiempo hasta el destino, el combustible a la izquierda y el nombre del destino. Comienza por crear una función que creará un informe preciso de la misión:"
   ]
  },
  {
   "cell_type": "code",
   "execution_count": 13,
   "metadata": {},
   "outputs": [
    {
     "name": "stdout",
     "output_type": "stream",
     "text": [
      "\n",
      "    Datos de la misión\n",
      "    --------------------\n",
      "    Destino: Moon\n",
      "    Hora prelanzamiento: 00:15\n",
      "    Tiempo de vuelo: 180 minutos    \n",
      "    Combustible tanque externo: 710\n",
      "    Combustible tanque interno: 200\n",
      "    Combustible total: 910\n"
     ]
    }
   ],
   "source": [
    "# Función con un informe preciso de la misión. Considera hora de prelanzamiento, tiempo de vuelo, destino, tanque externo y tanque interno\n",
    "def informe_mision(destino, prelanzamiento, tiempo_de_vuelo, tanque_ext, tanque_int):\n",
    "    return f\"\"\"\n",
    "    Datos de la misión\n",
    "    --------------------\n",
    "    Destino: {destino}\n",
    "    Hora prelanzamiento: {prelanzamiento}\n",
    "    Tiempo de vuelo: {tiempo_de_vuelo} minutos    \n",
    "    Combustible tanque externo: {tanque_ext}\n",
    "    Combustible tanque interno: {tanque_int}\n",
    "    Combustible total: {tanque_ext + tanque_int}\"\"\"\n",
    "\n",
    "print( informe_mision(\"Moon\",\"00:15\",180, 710, 200) )"
   ]
  },
  {
   "cell_type": "markdown",
   "metadata": {},
   "source": [
    "La función es problemática porque no se puede adaptar para minutos adicionales o tanques adicionales de combustible. Hazlo más flexible permitiendo cualquier número de pasos basados en el tiempo y cualquier número de tanques. En lugar de usar *args y **kwargs, aprovecha el hecho de que puedes usar cualquier nombre que desees. Asegurate que la función sea más legible mediante el uso de nombres de variables que están asociados con las entradas, como *minutes y **fuel_reservoirs:"
   ]
  },
  {
   "cell_type": "code",
   "execution_count": 14,
   "metadata": {},
   "outputs": [
    {
     "name": "stdout",
     "output_type": "stream",
     "text": [
      "\n",
      "    Datos de la misión\n",
      "    --------------------\n",
      "    Destino: Moon\n",
      "    Hora prelanzamiento: 00:15\n",
      "    Tiempo de vuelo: 165 minutos\n",
      "    Combustible total: 2100\n"
     ]
    }
   ],
   "source": [
    "# Escribe tu nueva función de reporte considerando lo anterior\n",
    "def informe_mision(destino, hora_prelanzamiento, *minutos, **combustible):\n",
    "    total_minutos=0\n",
    "    for value in minutos:\n",
    "        total_minutos += int(value)\n",
    "    combustible_total = 0\n",
    "    for value in combustible:\n",
    "        combustible_total += combustible[value]\n",
    "    return f\"\"\"\n",
    "    Datos de la misión\n",
    "    --------------------\n",
    "    Destino: {destino}\n",
    "    Hora prelanzamiento: {hora_prelanzamiento}\n",
    "    Tiempo de vuelo: {total_minutos} minutos\n",
    "    Combustible total: {combustible_total} Litros\"\"\"\n",
    "\n",
    "print( informe_mision(\"Moon\",\"00:15\",80, 50, 30, 5, tanque1=500, tanque2=600, tanque3=1000) )"
   ]
  },
  {
   "cell_type": "markdown",
   "metadata": {},
   "source": [
    "Debido a que el combustible que queda en los tanques es específico de cada tanque, actualiza la función para usar el nombre de cada tanque en el informe:"
   ]
  },
  {
   "cell_type": "code",
   "execution_count": 18,
   "metadata": {},
   "outputs": [
    {
     "name": "stdout",
     "output_type": "stream",
     "text": [
      "\n",
      "    Destino: Moon\n",
      "    Tiempo de vuelo: 75 minutos\n",
      "    Combustible restante: 42000\n",
      "    Tanque principal : 40000 litros restantes\n",
      "Tanque externo : 2000 litros restantes\n",
      "\n"
     ]
    }
   ],
   "source": [
    "# Escribe tu nueva función\n",
    "def informe_mision(destino, *minutos, **reservas):\n",
    "    main_report = f\"\"\"\n",
    "    Destino: {destino}\n",
    "    Tiempo de vuelo: {sum(minutos)} minutos\n",
    "    Combustible restante: {sum(reservas.values())}\n",
    "    \"\"\"\n",
    "    for tank_name, litros in reservas.items():\n",
    "        main_report += f\"Tanque {tank_name} : {litros} litros restantes\\n\"\n",
    "    return main_report\n",
    "\n",
    "print(informe_mision(\"Moon\", 5, 10, 60, principal=40000, externo=2000))"
   ]
  }
 ],
 "metadata": {
  "interpreter": {
   "hash": "79434184167ed37bd3169f7b21407f70a39d7be74cd6d23692a3693c917966ff"
  },
  "kernelspec": {
   "display_name": "Python 3.10.2 64-bit",
   "language": "python",
   "name": "python3"
  },
  "language_info": {
   "codemirror_mode": {
    "name": "ipython",
    "version": 3
   },
   "file_extension": ".py",
   "mimetype": "text/x-python",
   "name": "python",
   "nbconvert_exporter": "python",
   "pygments_lexer": "ipython3",
   "version": "3.10.2"
  },
  "orig_nbformat": 4
 },
 "nbformat": 4,
 "nbformat_minor": 2
}
